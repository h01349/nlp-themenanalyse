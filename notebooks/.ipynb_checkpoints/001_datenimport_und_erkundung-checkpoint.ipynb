{
 "cells": [
  {
   "cell_type": "code",
   "execution_count": 3,
   "id": "44300ac8-8086-4830-9384-0e385e609584",
   "metadata": {
    "editable": true,
    "slideshow": {
     "slide_type": ""
    },
    "tags": []
   },
   "outputs": [
    {
     "name": "stdout",
     "output_type": "stream",
     "text": [
      "1. Spaltenübersicht:\n",
      "['Yelp URL', 'Rating', 'Date', 'Review Text']\n",
      "\n",
      "2. Datenstruktur:\n",
      "<class 'pandas.core.frame.DataFrame'>\n",
      "RangeIndex: 19896 entries, 0 to 19895\n",
      "Data columns (total 4 columns):\n",
      " #   Column       Non-Null Count  Dtype \n",
      "---  ------       --------------  ----- \n",
      " 0   Yelp URL     19896 non-null  object\n",
      " 1   Rating       19896 non-null  int64 \n",
      " 2   Date         19896 non-null  object\n",
      " 3   Review Text  19896 non-null  object\n",
      "dtypes: int64(1), object(3)\n",
      "memory usage: 621.9+ KB\n",
      "None\n",
      "\n",
      "3. Fehlende Werte pro Spalte:\n",
      "Yelp URL       0\n",
      "Rating         0\n",
      "Date           0\n",
      "Review Text    0\n",
      "dtype: int64\n",
      "\n",
      "4. Beispielhafte Bewertungen:\n",
      "[\"This place is amazing! I got the Sprinkles Sundae. You choose a cupcake and then the flavored ice cream. I got the Triple Cinnamon Cupcake with the Salted Caramel Ice Cream. She let me taste the ice cream because it's a bit strong. I love salted caramel so it was perfect for me! Just so you know, the other half of the cupcake is at the bottom of the cup when you order a Sprinkles Sundae! I wish I could've tried more of everything! We got two cookies to go and everything is delicious!\"\n",
      " 'I was speechless! Everyone was so friendly and helpful. There are so many to choose from I had to take it all in for a minute. Then I went crazy It will be a staple in my Vegas trips no doubt!'\n",
      " \"This place is amazing. Went again tonight and had the Ron Swanson ice cream on a doughnut cuz there is no better way....another awesome dessert. I was brought here by one tough critic who could not stop talking about how good it was a year and a half ago. I have now taken 2 tough critics; a few indifferent friends upset we drove 40 minutes and passed at least one ice cream place on the way; and a 9 (now ten) year old who just loves sugar. They all have the same thing in common. They will make the 40 minute drive any time they can without my prodding now. Not sure what you need to read to go but here it is Best ice cream maker/designer/chef or whatever the proper term is who always has a new favorite thought up when I go....seriously the Ron Swanson was amazing. An award winning doughnut to throw the ice cream in. Your favorite kids cereal to throw on top And an owner who manages to work 15 hours a day or some ridiculous amount, be there every time I go, and not once be in a bad mood or anywhere near it. Tonight we went there and it was slammed. Not one person could go inside (if anyone seriously asks why I'll be scared at this point) but the line was healthy even though it was north of 100. Don't get me wrong they got us up there really quick and don't be dissuaded by the line length if you go. But even then when we got up there and the owner found out it was my gf first time he explained how everything was prepared. What to do and suggested what she get. We were out in a hurry but never felt rushed. GOOOOOOOOOOOOOOOOOOOOOOOOOOOOOOOOO!\"\n",
      " \"Great customer service and awesome donuts! Had 4 different ones and took Erica's recommendation. Every single bite was pure joy! I will be back. Thanks Erica for great service!\"\n",
      " \"My daughter loved her shake so much. We loved the old school look of the inside. The staff was friendly and courteous. The only thing I could complain about is the line on a hot day, but that's nitpicking. I would recommend to everyone.\"]\n",
      "\n",
      "5. Bewertungsverteilung (Rating):\n",
      "Rating\n",
      "1     1217\n",
      "2     1280\n",
      "3     2069\n",
      "4     4447\n",
      "5    10883\n",
      "Name: count, dtype: int64\n"
     ]
    }
   ],
   "source": [
    "# 001_datenimport_und_erkundung\n",
    "\n",
    "# Bibliotheken importieren\n",
    "import pandas as pd\n",
    "\n",
    "# CSV-Datei laden (Pfad anpassen bei Bedarf) / (r\"C:\\Users\\h0\\Documents\\GitHub\\nlp-themenanalyse\\data\\YelpRestaurantReviews.csv\")\n",
    "data = pd.read_csv(\"..\\data\\YelpRestaurantReviews.csv\")\n",
    "\n",
    "# Überblick: Spalten\n",
    "print(\"1. Spaltenübersicht:\")\n",
    "print(data.columns.tolist())\n",
    "\n",
    "# Struktur und Datentypen\n",
    "print(\"\\n2. Datenstruktur:\")\n",
    "print(data.info())\n",
    "\n",
    "# Fehlende Werte prüfen\n",
    "print(\"\\n3. Fehlende Werte pro Spalte:\")\n",
    "print(data.isnull().sum())\n",
    "\n",
    "# Beispielhafte Bewertungen anzeigen\n",
    "print(\"\\n4. Beispielhafte Bewertungen:\")\n",
    "print(data[\"Review Text\"].sample(5).values)\n",
    "\n",
    "# Grundlegende Statistik zum Rating\n",
    "print(\"\\n5. Bewertungsverteilung (Rating):\")\n",
    "print(data[\"Rating\"].value_counts().sort_index())"
   ]
  },
  {
   "cell_type": "code",
   "execution_count": null,
   "id": "0ba3059b-ee96-4ea7-88d6-ca348b6115c6",
   "metadata": {},
   "outputs": [],
   "source": []
  }
 ],
 "metadata": {
  "kernelspec": {
   "display_name": "Python 3 (ipykernel)",
   "language": "python",
   "name": "python3"
  },
  "language_info": {
   "codemirror_mode": {
    "name": "ipython",
    "version": 3
   },
   "file_extension": ".py",
   "mimetype": "text/x-python",
   "name": "python",
   "nbconvert_exporter": "python",
   "pygments_lexer": "ipython3",
   "version": "3.10.18"
  }
 },
 "nbformat": 4,
 "nbformat_minor": 5
}

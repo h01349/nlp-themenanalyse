{
 "cells": [
  {
   "cell_type": "code",
   "execution_count": 1,
   "id": "44300ac8-8086-4830-9384-0e385e609584",
   "metadata": {
    "editable": true,
    "slideshow": {
     "slide_type": ""
    },
    "tags": []
   },
   "outputs": [
    {
     "name": "stdout",
     "output_type": "stream",
     "text": [
      "1. Spaltenübersicht:\n",
      "['Yelp URL', 'Rating', 'Date', 'Review Text']\n",
      "\n",
      "2. Datenstruktur:\n",
      "<class 'pandas.core.frame.DataFrame'>\n",
      "RangeIndex: 19896 entries, 0 to 19895\n",
      "Data columns (total 4 columns):\n",
      " #   Column       Non-Null Count  Dtype \n",
      "---  ------       --------------  ----- \n",
      " 0   Yelp URL     19896 non-null  object\n",
      " 1   Rating       19896 non-null  int64 \n",
      " 2   Date         19896 non-null  object\n",
      " 3   Review Text  19896 non-null  object\n",
      "dtypes: int64(1), object(3)\n",
      "memory usage: 621.9+ KB\n",
      "None\n",
      "\n",
      "3. Fehlende Werte pro Spalte:\n",
      "Yelp URL       0\n",
      "Rating         0\n",
      "Date           0\n",
      "Review Text    0\n",
      "dtype: int64\n",
      "\n",
      "4. Beispielhafte Bewertungen:\n",
      "[\"My bf and I went late one night while I was Phx for work. He made us go back for his birthday later that month... we live in Oklahoma City. It's that good.\"\n",
      " \"why are the macaroons so freaking bomb digg? i have tried the coffe and chocolate macaroon and they are absolutely to die for! everything from the texture, to the taste, to the fluffyness is soOoooo good! it's $3.5 for one od these delectable palm size macaroons. if you are in vegas and on the strip, i highly recommend saving some room for dessert at bouchon.\"\n",
      " \"If you don't love this place, you are wrong. If you are lactose intolerant, eat this ice cream anyway. It is worth the pain. Allergic to dairy? Die happy. Not a fan of ice cream? You must be an alien or a lizard person.\"\n",
      " \"While I was in Paris, my boyfriend was in Las Vegas...oddly enough in the fake Paris hotel...you can guess who won the battle of emailing Eiffel Tower pictures. I decided he too needed to smuggle baked goods in his luggage. I think he did a better job than me. I only asked for bouchons, but I was also given a chocolate tart. I think my heart stopped for a couple seconds while eating it, and I'm not sure if it's because I shouldn't have eaten the whole thing by myself or because it tasted of chocolate heaven. Even though it had been in the freezer for a couple days, it was still pretty damn amazing. The bouchons were just not that amazing in retrospect after the tart. They were good, but I can make a glorified brownie too if necessary. I am far too lazy for a tart. I would eat everything again though, and then some more, don't get me wrong.\"\n",
      " 'I wish they had a gluten free cupcake option so I could of tried one but I did really enjoy my shake! And the group I was with were in love with their sprinkle sundaes!!']\n",
      "\n",
      "5. Bewertungsverteilung (Rating):\n",
      "Rating\n",
      "1     1217\n",
      "2     1280\n",
      "3     2069\n",
      "4     4447\n",
      "5    10883\n",
      "Name: count, dtype: int64\n"
     ]
    }
   ],
   "source": [
    "# 001_datenimport_und_erkundung\n",
    "\n",
    "# Bibliotheken importieren\n",
    "import pandas as pd\n",
    "\n",
    "# CSV-Datei laden (Pfad anpassen bei Bedarf) / (r\"C:\\Users\\h0\\Documents\\GitHub\\nlp-themenanalyse\\data\\YelpRestaurantReviews.csv\")\n",
    "data = pd.read_csv(\"..\\data\\YelpRestaurantReviews.csv\")\n",
    "\n",
    "# Überblick: Spalten\n",
    "print(\"1. Spaltenübersicht:\")\n",
    "print(data.columns.tolist())\n",
    "\n",
    "# Struktur und Datentypen\n",
    "print(\"\\n2. Datenstruktur:\")\n",
    "print(data.info())\n",
    "\n",
    "# Fehlende Werte prüfen\n",
    "print(\"\\n3. Fehlende Werte pro Spalte:\")\n",
    "print(data.isnull().sum())\n",
    "\n",
    "# Beispielhafte Bewertungen anzeigen\n",
    "print(\"\\n4. Beispielhafte Bewertungen:\")\n",
    "print(data[\"Review Text\"].sample(5).values)\n",
    "\n",
    "# Grundlegende Statistik zum Rating\n",
    "print(\"\\n5. Bewertungsverteilung (Rating):\")\n",
    "print(data[\"Rating\"].value_counts().sort_index())"
   ]
  },
  {
   "cell_type": "code",
   "execution_count": null,
   "id": "99771e51-eadc-4385-b820-096d97ca62da",
   "metadata": {
    "editable": true,
    "slideshow": {
     "slide_type": ""
    },
    "tags": []
   },
   "outputs": [],
   "source": []
  }
 ],
 "metadata": {
  "kernelspec": {
   "display_name": "Python 3 (ipykernel)",
   "language": "python",
   "name": "python3"
  },
  "language_info": {
   "codemirror_mode": {
    "name": "ipython",
    "version": 3
   },
   "file_extension": ".py",
   "mimetype": "text/x-python",
   "name": "python",
   "nbconvert_exporter": "python",
   "pygments_lexer": "ipython3",
   "version": "3.10.18"
  }
 },
 "nbformat": 4,
 "nbformat_minor": 5
}

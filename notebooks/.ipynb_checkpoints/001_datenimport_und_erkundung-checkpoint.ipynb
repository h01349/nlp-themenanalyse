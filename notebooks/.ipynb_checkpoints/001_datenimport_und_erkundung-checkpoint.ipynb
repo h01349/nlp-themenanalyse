{
 "cells": [
  {
   "cell_type": "code",
   "execution_count": 2,
   "id": "44300ac8-8086-4830-9384-0e385e609584",
   "metadata": {
    "editable": true,
    "slideshow": {
     "slide_type": ""
    },
    "tags": []
   },
   "outputs": [
    {
     "name": "stdout",
     "output_type": "stream",
     "text": [
      "1. Spaltenübersicht:\n",
      "['Yelp URL', 'Rating', 'Date', 'Review Text']\n",
      "\n",
      "2. Datenstruktur:\n",
      "<class 'pandas.core.frame.DataFrame'>\n",
      "RangeIndex: 19896 entries, 0 to 19895\n",
      "Data columns (total 4 columns):\n",
      " #   Column       Non-Null Count  Dtype \n",
      "---  ------       --------------  ----- \n",
      " 0   Yelp URL     19896 non-null  object\n",
      " 1   Rating       19896 non-null  int64 \n",
      " 2   Date         19896 non-null  object\n",
      " 3   Review Text  19896 non-null  object\n",
      "dtypes: int64(1), object(3)\n",
      "memory usage: 621.9+ KB\n",
      "None\n",
      "\n",
      "3. Fehlende Werte pro Spalte:\n",
      "Yelp URL       0\n",
      "Rating         0\n",
      "Date           0\n",
      "Review Text    0\n",
      "dtype: int64\n",
      "\n",
      "4. Beispielhafte Bewertungen:\n",
      "[\"Had S'mores and strawberry shortcake sundaes and it was super awesome.... Staffs were super cool and friendly... Can't wait to have s'mores again.\"\n",
      " 'I came here on a Sunday for a short cake break. I was pleasantly surprised to see how nice the bakery is designed and by the lovely atmosphere which is somewhat romantic/bohemian. There is a unique selection of delicious cakes including vegan options. They rotate their cake/frosting flavors frequently. I tried the chocolate cake with pistachio icing and my wife ordered the butternut squash cake with caramel icing. Both cakes were very well made, and delicious. They were rich in flavor and we left with our sweet tooth craving satisfied. There were several people who ordered coffee or tea, and had their laptops open doing work. I Overall, a very pleasant experience and will definitely come back to try their rotation selection of cakes.'\n",
      " \"This is a pretty cool ice cream shop. They allowed me to sample some flavors and the honey lavender ice cream really stood out to me. I decided to have that in the glazed donut with fruity pebbles. It was a really nice combination. The fruity pebbles added a nice crunch. However, I thought the donut was supposed to be glazed but mine wasn't and neither was my friend's. Other than that, it was good!\"\n",
      " \"The desserts are to die for, and the 24 hour thing is a big plus. Amelies is always on my schedule when I visit the NoDa area. French press coffee: 10-10, Salted Caramel Brownies: 10-10, $1 Baguettes with cheese spread: 100-10 (that extra zero is not a typo...best cheap meal in town). The only reason I give 4 stars instead of 5 is because sometimes there is no seating available and it is so packed it takes 30 minutes to get to the front of the line and get your food.....but I guess awesome places like Amelies can't avoid the crowds because the place is just so dang good! If you're visiting Charlotte, don't skip over this place as it is a must-see. Amelies also designed and baked all the pastries in the Hunger Games movie, which I thought was a fun fact. Also worth noting: This place is great for a first date since it's pretty casual. Check it out!\"\n",
      " \"The macarons are huge! They're also some of the best on the Strip. I also tried the Better Nutter (peanut butter buttercream between peanut butter cookies), which was fantastic, and the TKO (their take on an Oreo), which was just okay.\"]\n",
      "\n",
      "5. Bewertungsverteilung (Rating):\n",
      "Rating\n",
      "1     1217\n",
      "2     1280\n",
      "3     2069\n",
      "4     4447\n",
      "5    10883\n",
      "Name: count, dtype: int64\n"
     ]
    }
   ],
   "source": [
    "# 001_datenimport_und_erkundung\n",
    "\n",
    "# Bibliotheken importieren\n",
    "import pandas as pd\n",
    "\n",
    "# CSV-Datei laden (Pfad anpassen bei Bedarf)\n",
    "data = pd.read_csv(r\"C:\\Users\\h0\\Documents\\GitHub\\nlp-themenanalyse\\data\\YelpRestaurantReviews.csv\")\n",
    "\n",
    "# Überblick: Spalten\n",
    "print(\"1. Spaltenübersicht:\")\n",
    "print(data.columns.tolist())\n",
    "\n",
    "# Struktur und Datentypen\n",
    "print(\"\\n2. Datenstruktur:\")\n",
    "print(data.info())\n",
    "\n",
    "# Fehlende Werte prüfen\n",
    "print(\"\\n3. Fehlende Werte pro Spalte:\")\n",
    "print(data.isnull().sum())\n",
    "\n",
    "# Beispielhafte Bewertungen anzeigen\n",
    "print(\"\\n4. Beispielhafte Bewertungen:\")\n",
    "print(data[\"Review Text\"].sample(5).values)\n",
    "\n",
    "# Grundlegende Statistik zum Rating\n",
    "print(\"\\n5. Bewertungsverteilung (Rating):\")\n",
    "print(data[\"Rating\"].value_counts().sort_index())"
   ]
  },
  {
   "cell_type": "code",
   "execution_count": null,
   "id": "99771e51-eadc-4385-b820-096d97ca62da",
   "metadata": {
    "editable": true,
    "slideshow": {
     "slide_type": ""
    },
    "tags": []
   },
   "outputs": [],
   "source": []
  }
 ],
 "metadata": {
  "kernelspec": {
   "display_name": "Python 3 (ipykernel)",
   "language": "python",
   "name": "python3"
  },
  "language_info": {
   "codemirror_mode": {
    "name": "ipython",
    "version": 3
   },
   "file_extension": ".py",
   "mimetype": "text/x-python",
   "name": "python",
   "nbconvert_exporter": "python",
   "pygments_lexer": "ipython3",
   "version": "3.10.18"
  }
 },
 "nbformat": 4,
 "nbformat_minor": 5
}

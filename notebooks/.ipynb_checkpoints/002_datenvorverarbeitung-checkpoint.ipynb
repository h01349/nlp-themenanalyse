{
 "cells": [
  {
   "cell_type": "code",
   "execution_count": 22,
   "id": "a89c2337-4bfb-461e-941d-96fcda807b5e",
   "metadata": {
    "editable": true,
    "slideshow": {
     "slide_type": ""
    },
    "tags": []
   },
   "outputs": [
    {
     "name": "stdout",
     "output_type": "stream",
     "text": [
      "Original: All I can say is they have very good ice cream I would for sure recommend their cookies and creme ice cream it is very good\n",
      "\n",
      "Bereinigt: all i can say is they have very good ice cream i would for sure recommend their cookies and creme ice cream it is very good\n",
      "\n",
      "Tokens: ['say', 'good', 'ice', 'cream', 'would', 'sure', 'recommend', 'cookies', 'creme', 'ice', 'cream', 'good']\n"
     ]
    }
   ],
   "source": [
    "# 002_datenvorverarbeitung\n",
    "\n",
    "# Bibliotheken importieren\n",
    "import pandas as pd\n",
    "import re\n",
    "import nltk\n",
    "# Die folgenden Downloads sind nur beim ersten Ausführen nötig\n",
    "# nltk.download(\"punkt\")\n",
    "# nltk.download(\"punkt_tab\")\n",
    "# nltk.download(\"stopwords\")\n",
    "from nltk.tokenize import word_tokenize\n",
    "from nltk.corpus import stopwords\n",
    "\n",
    "# CSV-Datei laden (Pfad anpassen bei Bedarf)\n",
    "data = pd.read_csv(r\"C:\\Users\\h0\\Documents\\GitHub\\nlp-themenanalyse\\data\\YelpRestaurantReviews.csv\")\n",
    "\n",
    "## Schritt 1: Grundlegende Textbereinigung\n",
    "\n",
    "# 1.1 Arbeitskopie der Daten\n",
    "data[\"clean_text\"] = data[\"Review Text\"].astype(str)\n",
    "\n",
    "# 1.2 Kleinbuchstaben\n",
    "data[\"clean_text\"] = data[\"clean_text\"].str.lower()\n",
    "\n",
    "# 1.3 Sonderzeichen und Zahlen entfernen\n",
    "data[\"clean_text\"] = data[\"clean_text\"].apply(lambda x: re.sub(r'[^a-z\\s]', '', x))\n",
    "\n",
    "# 1.4 Doppelte Leerzeichen reduzieren\n",
    "data[\"clean_text\"] = data[\"clean_text\"].apply(lambda x: re.sub(r'\\s+', ' ', x).strip())\n",
    "\n",
    "# 1.5 Kontrollausgabe (Grundlegende Bereinigung) Review Text beginnend bei 1. Review (original vs. bereinigt)\n",
    "print(\"Original:\", data[\"Review Text\"].iloc[0])\n",
    "print(\"\\nBereinigt:\", data[\"clean_text\"].iloc[0])\n",
    "\n",
    "## Schritt 2: Tokenisierung und Entfernen von Stoppwörtern\n",
    "\n",
    "# 2.1 Englischsprachige Stoppwörter\n",
    "stop_words = set(stopwords.words(\"english\"))\n",
    "\n",
    "# 2.2 okenisierung + Entfernen von Stoppwörtern\n",
    "def tokenize_and_filter(text):\n",
    "    tokens = word_tokenize(text)\n",
    "    filtered = [word for word in tokens if word not in stop_words]\n",
    "    return filtered\n",
    "\n",
    "# 2.3 Neue Spalte mit gefilterten Tokens\n",
    "data[\"tokens\"] = data[\"clean_text\"].apply(tokenize_and_filter)\n",
    "\n",
    "# 2.4 Kontrollausgabe (Tokenisierung/Stoppwörter) Review Text beginnend bei 1. Review\n",
    "print(\"\\nTokens:\", data[\"tokens\"].iloc[0])\n"
   ]
  },
  {
   "cell_type": "code",
   "execution_count": null,
   "id": "dfbb551a-2ac9-4447-b3ae-29c0d9127876",
   "metadata": {
    "editable": true,
    "slideshow": {
     "slide_type": ""
    },
    "tags": []
   },
   "outputs": [],
   "source": []
  }
 ],
 "metadata": {
  "kernelspec": {
   "display_name": "Python 3 (ipykernel)",
   "language": "python",
   "name": "python3"
  },
  "language_info": {
   "codemirror_mode": {
    "name": "ipython",
    "version": 3
   },
   "file_extension": ".py",
   "mimetype": "text/x-python",
   "name": "python",
   "nbconvert_exporter": "python",
   "pygments_lexer": "ipython3",
   "version": "3.10.18"
  }
 },
 "nbformat": 4,
 "nbformat_minor": 5
}

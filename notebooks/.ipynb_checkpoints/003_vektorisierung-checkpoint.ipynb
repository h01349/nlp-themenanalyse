{
 "cells": [
  {
   "cell_type": "code",
   "execution_count": null,
   "id": "d35aa4e6-30c4-4d68-9942-b1516bf0027b",
   "metadata": {},
   "outputs": [],
   "source": [
    "## 003_vektorisierung\n",
    "\n",
    "import pandas as pd\n",
    "import ast\n",
    "from sklearn.feature_extraction.text import TfidfVectorizer\n",
    "from sentence_transformers import SentenceTransformer\n",
    "\n",
    "# CSV-Datei laden (cleaned_data.csv)\n",
    "data = pd.read_csv(\"../data/cleaned_data.csv\")\n",
    "\n",
    "# Prüfen, ob \"lemmas\" vorhanden ist\n",
    "#print(data.columns)\n",
    "data[\"lemmas\"] = data[\"lemmas\"].apply(ast.literal_eval)\n",
    "\n",
    "# Lemmas zu Text verbinden\n",
    "data[\"lemmas_str\"] = data[\"lemmas\"].apply(lambda tokens: \" \".join(tokens))\n",
    "\n",
    "# Beispielausgabe\n",
    "#print(\"Beispiel-Text (nach Lemmatization):\")\n",
    "#print(data[\"lemmas_str\"].iloc[0])\n",
    "\n",
    "## Schritt 1: TF-IDF-Vektorisierer initialisieren\n",
    "vectorizer = TfidfVectorizer(\n",
    "    max_features=1000,        # Begrenzung auf häufigste (bspw.) 1000 Begriffe\n",
    "    ngram_range=(1, 2),       # Unigramme und Bigramme\n",
    "    stop_words=\"english\"      # zusätzliche englische Stoppwörter entfernen\n",
    ")\n",
    "\n",
    "## Schritt 2: Vektoren erzeugen\n",
    "tfidf_matrix = vectorizer.fit_transform(data[\"lemmas_str\"])\n",
    "\n",
    "# Schritt 3: Ausgabe – Größe der TF-IDF-Matrix\n",
    "print(\"TF-IDF-Matrix erzeugt.\")\n",
    "print(\"Matrixform:\", tfidf_matrix.shape)\n",
    "\n",
    "## Schritt 3\n",
    "\n",
    "# Sentence Embeddings erzeugen\n",
    "# Hinweis: Beim ersten Ausführen wird das Modell automatisch heruntergeladen.\n",
    "# Dieser Schritt kann einige Sekunden dauern. Danach erfolgt die Nutzung lokal.\n",
    "\n",
    "model = SentenceTransformer(\"all-MiniLM-L6-v2\")\n",
    "\n",
    "embeddings = model.encode(\n",
    "    data[\"lemmas_str\"].tolist(),\n",
    "    show_progress_bar=True,\n",
    "    convert_to_numpy=True\n",
    ")\n",
    "\n",
    "print(\"Embeddings-Shape:\", embeddings.shape)"
   ]
  },
  {
   "cell_type": "code",
   "execution_count": null,
   "id": "1ac6fc3a-ff93-46f7-84b6-f6af7b599244",
   "metadata": {},
   "outputs": [],
   "source": []
  }
 ],
 "metadata": {
  "kernelspec": {
   "display_name": "Python 3 (ipykernel)",
   "language": "python",
   "name": "python3"
  },
  "language_info": {
   "codemirror_mode": {
    "name": "ipython",
    "version": 3
   },
   "file_extension": ".py",
   "mimetype": "text/x-python",
   "name": "python",
   "nbconvert_exporter": "python",
   "pygments_lexer": "ipython3",
   "version": "3.10.18"
  }
 },
 "nbformat": 4,
 "nbformat_minor": 5
}

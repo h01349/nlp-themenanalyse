{
 "cells": [
  {
   "cell_type": "markdown",
   "id": "fcdd34f6-908c-4b3c-91ab-f729578e8b19",
   "metadata": {},
   "source": [
    "## 005 Themenextraktion mit BERTopic"
   ]
  },
  {
   "cell_type": "code",
   "execution_count": null,
   "id": "8eaa7734-9f76-4894-97a7-b496b94b6b1c",
   "metadata": {},
   "outputs": [],
   "source": [
    "# Standardbibliotheken\n",
    "import ast\n",
    "\n",
    "# Drittanbieter-Bibliotheken\n",
    "import numpy as np\n",
    "import pandas as pd\n",
    "from bertopic import BERTopic\n",
    "from sklearn.feature_extraction.text import CountVectorizer\n",
    "\n",
    "# CSV-Datei laden (cleaned_data.csv)\n",
    "data = pd.read_csv(\"../data/cleaned_data.csv\")\n",
    "data[\"lemmas_str\"] = data[\"lemmas_str\"].astype(str)\n",
    "\n"
   ]
  }
 ],
 "metadata": {
  "kernelspec": {
   "display_name": "Python 3 (ipykernel)",
   "language": "python",
   "name": "python3"
  },
  "language_info": {
   "codemirror_mode": {
    "name": "ipython",
    "version": 3
   },
   "file_extension": ".py",
   "mimetype": "text/x-python",
   "name": "python",
   "nbconvert_exporter": "python",
   "pygments_lexer": "ipython3",
   "version": "3.10.18"
  }
 },
 "nbformat": 4,
 "nbformat_minor": 5
}

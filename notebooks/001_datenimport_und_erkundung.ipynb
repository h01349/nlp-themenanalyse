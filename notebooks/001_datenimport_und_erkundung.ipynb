{
 "cells": [
  {
   "cell_type": "markdown",
   "id": "12832bb7-6030-440b-b1a6-77cbd1e54e40",
   "metadata": {},
   "source": [
    "### 001 Datenimport und Erkundung"
   ]
  },
  {
   "cell_type": "code",
   "execution_count": null,
   "id": "44300ac8-8086-4830-9384-0e385e609584",
   "metadata": {
    "editable": true,
    "slideshow": {
     "slide_type": ""
    },
    "tags": []
   },
   "outputs": [],
   "source": [
    "# Drittanbieter-Bibliotheken\n",
    "import pandas as pd\n",
    "\n",
    "# CSV-Datei laden\n",
    "data = pd.read_csv(\"../data/YelpRestaurantReviews.csv\") # \"/\" i.d.R. plattformunabhängig\n",
    "\n",
    "# Überblick: Spalten\n",
    "print(\"1. Spaltenübersicht:\")\n",
    "print(data.columns.tolist())\n",
    "\n",
    "# Struktur und Datentypen\n",
    "print(\"\\n2. Datenstruktur:\")\n",
    "print(data.info())\n",
    "\n",
    "# Fehlende Werte prüfen\n",
    "print(\"\\n3. Fehlende Werte pro Spalte:\")\n",
    "print(data.isnull().sum())\n",
    "\n",
    "# Beispielhafte Bewertungen anzeigen\n",
    "print(\"\\n4. Beispielhafte Bewertungen:\")\n",
    "print(data[\"Review Text\"].sample(5).values)\n",
    "\n",
    "# Grundlegende Statistik zum \"Rating\"\n",
    "print(\"\\n5. Bewertungsverteilung (Rating):\")\n",
    "print(data[\"Rating\"].value_counts().sort_index())"
   ]
  },
  {
   "cell_type": "code",
   "execution_count": null,
   "id": "0ba3059b-ee96-4ea7-88d6-ca348b6115c6",
   "metadata": {},
   "outputs": [],
   "source": []
  }
 ],
 "metadata": {
  "kernelspec": {
   "display_name": "Python 3 (ipykernel)",
   "language": "python",
   "name": "python3"
  },
  "language_info": {
   "codemirror_mode": {
    "name": "ipython",
    "version": 3
   },
   "file_extension": ".py",
   "mimetype": "text/x-python",
   "name": "python",
   "nbconvert_exporter": "python",
   "pygments_lexer": "ipython3",
   "version": "3.10.18"
  }
 },
 "nbformat": 4,
 "nbformat_minor": 5
}

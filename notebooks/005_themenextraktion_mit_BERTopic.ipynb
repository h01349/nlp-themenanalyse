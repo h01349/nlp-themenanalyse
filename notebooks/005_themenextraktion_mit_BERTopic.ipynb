{
 "cells": [
  {
   "cell_type": "markdown",
   "id": "fcdd34f6-908c-4b3c-91ab-f729578e8b19",
   "metadata": {},
   "source": [
    "### 005 Themenextraktion mit BERTopic"
   ]
  },
  {
   "cell_type": "code",
   "execution_count": null,
   "id": "8eaa7734-9f76-4894-97a7-b496b94b6b1c",
   "metadata": {},
   "outputs": [],
   "source": [
    "# Standardbibliotheken\n",
    "import ast\n",
    "\n",
    "# Drittanbieter-Bibliotheken\n",
    "import numpy as np\n",
    "import pandas as pd\n",
    "from bertopic import BERTopic\n",
    "from sklearn.feature_extraction.text import CountVectorizer\n",
    "\n",
    "# Hinweistext Allgemein\n",
    "print(\"Daten werden geladen...\")\n",
    "\n",
    "# CSV-Datei laden (cleaned_data.csv)\n",
    "data = pd.read_csv(\"../data/cleaned_data.csv\")\n",
    "data[\"lemmas_str\"] = data[\"lemmas_str\"].astype(str)\n",
    "\n",
    "# Vortrainierte Embeddings laden (Erzeugt in Notebook 3: ../data/embeddings.npy)\n",
    "embeddings = np.load(\"../data/embeddings.npy\")\n",
    "\n",
    "# Vektorizer festlegen für bessere Kontrolle über Token\n",
    "vectorizer_model = CountVectorizer(stop_words=\"english\")\n",
    "\n",
    "# BERTopic-Modell initialisieren\n",
    "topic_model = BERTopic(\n",
    "    vectorizer_model=vectorizer_model,\n",
    "    language=\"english\",\n",
    "    calculate_probabilities=True,\n",
    "    verbose=True\n",
    ")\n",
    "\n",
    "# Themen mit BERTopic modellieren\n",
    "topics, probs = topic_model.fit_transform(data[\"lemmas_str\"].tolist(), embeddings)\n",
    "\n",
    "# Top-Themen anzeigen (10)\n",
    "print(\"\\nTop 10 Themen:\")\n",
    "print(topic_model.get_topic_info().head(10))"
   ]
  },
  {
   "cell_type": "markdown",
   "id": "81d11c7b-ec16-46f8-ab34-16168a1c96b0",
   "metadata": {},
   "source": [
    "Vergleich der Themenanalyse: LDA und BERTopic\n",
    "\n",
    "Zur thematischen Analyse wurden zwei unterschiedliche Verfahren eingesetzt:\n",
    "\n",
    "- **LDA** ordnet Texte anhand statistischer Wortverteilungen bestimmten Themen zu.\n",
    "Die Qualität der Modelle wurde mithilfe des Coherence Scores beurteilt. Die Ergebnisse sind gut nachvollziehbar, zeigen jedoch gelegentlich Überschneidungen zwischen den Themen.\n",
    "\n",
    "- **BERTopic** nutzt Satz-Embeddings, um die Bedeutung von Texten kontextbezogen zu erfassen.\n",
    "Durch ein anschließendes Clustering werden inhaltlich ähnliche Bewertungen gruppiert. Dadurch entstehen klarer abgegrenzte Themen, insbesondere bei komplexen oder mehrdeutigen Formulierungen.\n",
    "\n",
    "Beide Verfahren ergänzen sich sinnvoll:\n",
    "LDA gibt einen strukturierten Überblick über häufige Wortmuster, während BERTopic zusätzlich feine inhaltliche Unterschiede erkennt."
   ]
  },
  {
   "cell_type": "markdown",
   "id": "f3876fd8-8c9b-4a48-ac55-5eeb2ce90725",
   "metadata": {},
   "source": [
    "### Hinweis für die PDF-Version (Phase 3):\n",
    "\n",
    "Eine Beschreibung zur Verwendung des Codes ist der Datei „README.md“ im GitHub-Repository zu entnehmen.  \n",
    "Link zum Repository: https://github.com/h01349/nlp-themenanalyse.git"
   ]
  },
  {
   "cell_type": "code",
   "execution_count": null,
   "id": "a3946dce-565d-4db0-8540-974a6a91af30",
   "metadata": {},
   "outputs": [],
   "source": []
  }
 ],
 "metadata": {
  "kernelspec": {
   "display_name": "Python 3 (ipykernel)",
   "language": "python",
   "name": "python3"
  },
  "language_info": {
   "codemirror_mode": {
    "name": "ipython",
    "version": 3
   },
   "file_extension": ".py",
   "mimetype": "text/x-python",
   "name": "python",
   "nbconvert_exporter": "python",
   "pygments_lexer": "ipython3",
   "version": "3.10.18"
  }
 },
 "nbformat": 4,
 "nbformat_minor": 5
}
